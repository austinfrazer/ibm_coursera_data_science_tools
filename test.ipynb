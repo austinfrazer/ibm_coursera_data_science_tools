{
    "cells": [
        {
            "cell_type": "code",
            "execution_count": 1,
            "metadata": {},
            "outputs": [],
            "source": "msg1 = \"you think the way you live's OK.  You think posing will save the day.  You think we don't see that you're running.  Better call your boys because I'm coming.\""
        },
        {
            "cell_type": "code",
            "execution_count": 2,
            "metadata": {},
            "outputs": [],
            "source": "msg2 = \"you can't be me:  I'm a rockstar.  I'm running on the top of a cop car.  I'm a rebel; I might fall for a pop star.\""
        },
        {
            "cell_type": "code",
            "execution_count": 55,
            "metadata": {},
            "outputs": [],
            "source": "lyrics_corpus = \"\"\"Fuckin' posers\nYo yo yeah, yo yo yeah, yo yo yeah, yo yo yeah, uh, yeah\nFuckin' posers, it's almost over now, it's almost over now\nFor all you fuckin' posers, yeah\nIt's almost over now, it's almost over now\nYou think the way you live's okay\nYou think posing will save your day\nYou think we don't see that you're running\nLet her call your boys 'cause I'm coming\nYou can't be me I'm a rock star\nI'm rhymin' on the top of a cop car\nI'm a rebel and my four four pops far so\nIt's almost over now, it's almost over now\nGuess you ain't heard that we swallow guys\nIt's too damn late to apologize\nWhen you see the mental or when you see the skies\nIt's almost over now, Almost over now\nYou think that you don't have to ever quit\nYou think that you can get away with it\nYou think that life won't be ever lit\nIt's almost over now, Almost over now\nSomethin' on your chest better get it off\nThere'll be no one left when we set it off\nWe ain't gon' take it no more\nSince it's almost over now, Almost over now\nYou had plenty of time, there was no rush\nBut it was your dream to be like us\nYou're in dreamland so you don't care\nAnd as you wait we're standing there\nYou think that you don't have to ever quit\nYou think that you can get away with it\nYou think that life won't be ever lit\nIt's almost over now, almost over now\nSomethin' on your chest better get it off\nThere'll be no one left when we set it off\nWe ain't gon' take it no more\nSince it's almost over now, almost over now\nIt's almost over now, it's almost over now\nYou don't succeed, 'cause you hesitate\nYou think we're flyin but we'll levitate\nJust be yourself, don't ask us why\n'Cause if you don't, we'll make you fly\nYou think that you don't have to ever quit\nYou think that you can get away with it\nYou think that life won't be ever lit\nWell It's almost over now, almost over now\nSomethin' on your chest better get it off\nThere'll be no one left when we set it off\nWe ain't gon' take it no more\nSince it's almost over now, Almost over now\nNo one ever really dies\nYou believe that?\nWell if not, for you\nIt's almost over now, almost over now\nNo one ever really dies\nI'm watching you by star track\nComin' to a theater near you\"\"\""
        },
        {
            "cell_type": "code",
            "execution_count": 56,
            "metadata": {},
            "outputs": [
                {
                    "name": "stdout",
                    "output_type": "stream",
                    "text": "385\n"
                }
            ],
            "source": "# word count\ntotal_word_count = lyrics_corpus.count(' ') + 1\nprint(total_word_count)"
        },
        {
            "cell_type": "code",
            "execution_count": 57,
            "metadata": {},
            "outputs": [
                {
                    "name": "stdout",
                    "output_type": "stream",
                    "text": "The word 'you' was stated 45 times in this song.\n"
                }
            ],
            "source": "you_count = lyrics_corpus.lower().count('you')\nprint(\"The word 'you' was stated {} times in this song.\".format(you_count))"
        },
        {
            "cell_type": "code",
            "execution_count": 58,
            "metadata": {},
            "outputs": [],
            "source": "def specific_word_counter(chosen_word, corpus = lyrics_corpus):\n    total_word_count = corpus.count(' ') + 1\n    chosen_word = str(chosen_word)\n    chosen_word_count = corpus.lower().count(chosen_word)\n    print(\"The word {0} was stated {1} times in this song.\".format(chosen_word, chosen_word_count))\n    proportion_of_song = chosen_word_count / total_word_count\n    print(\"The word '{0}' represents \".format(chosen_word) + \"{:.2%} of the total word count of this song.\".format(proportion_of_song))"
        },
        {
            "cell_type": "code",
            "execution_count": 59,
            "metadata": {},
            "outputs": [
                {
                    "name": "stdout",
                    "output_type": "stream",
                    "text": "The word almost was stated 24 times in this song.\nThe word 'almost' represents 6.23% of the total word count of this song.\n"
                }
            ],
            "source": "specific_word_counter('almost')"
        },
        {
            "cell_type": "code",
            "execution_count": 60,
            "metadata": {},
            "outputs": [
                {
                    "name": "stdout",
                    "output_type": "stream",
                    "text": "The word on was stated 23 times in this song.\nThe word 'on' represents 5.97% of the total word count of this song.\n"
                }
            ],
            "source": "specific_word_counter('on')"
        },
        {
            "cell_type": "code",
            "execution_count": 61,
            "metadata": {},
            "outputs": [
                {
                    "name": "stdout",
                    "output_type": "stream",
                    "text": "The word you was stated 45 times in this song.\nThe word 'you' represents 11.69% of the total word count of this song.\n"
                }
            ],
            "source": "specific_word_counter('you')"
        },
        {
            "cell_type": "code",
            "execution_count": 40,
            "metadata": {},
            "outputs": [],
            "source": "freebird_corpus = \"\"\"If I leave here tomorrow\nWould you still remember me?\nFor I must be traveling on now\n'Cause there's too many places I've got to see.\n\nBut if I stayed here with you, girl,\nThings just couldn't be the same.\n'Cause I'm as free as a bird now,\nAnd this bird you cannot change.\nAnd this bird you cannot change.\nAnd this bird you cannot change.\nLord knows I can't change.\n\nBye, bye, baby, it's been a sweet love, yeah,\nThough this feeling I can't change.\nBut please don't take it so badly,\n'Cause Lord knows I'm to blame.\n\nBut if I stayed here with you, girl,\nThings just couldn't be the same.\n'Cause I'm as free as a bird now,\nAnd this bird you'll never change.\nAnd the bird you cannot change.\nAnd this bird you cannot change.\nLord knows, I can't change.\nLord, help me, I can't change.\n\nLord, I can't change.\nWon't you fly high, free bird, yeah?\"\"\""
        },
        {
            "cell_type": "code",
            "execution_count": 41,
            "metadata": {},
            "outputs": [
                {
                    "name": "stdout",
                    "output_type": "stream",
                    "text": "The word on was stated 3 times in this song.\nThe word 'on' represents 2.19% of the total word count of this song.\n"
                }
            ],
            "source": "specific_word_counter('on', freebird_corpus)"
        },
        {
            "cell_type": "code",
            "execution_count": 42,
            "metadata": {},
            "outputs": [
                {
                    "name": "stdout",
                    "output_type": "stream",
                    "text": "The word you was stated 17 times in this song.\nThe word 'you' represents 12.41% of the total word count of this song.\n"
                }
            ],
            "source": "specific_word_counter('you', freebird_corpus)"
        },
        {
            "cell_type": "code",
            "execution_count": 52,
            "metadata": {},
            "outputs": [
                {
                    "name": "stdout",
                    "output_type": "stream",
                    "text": "The word bird was stated 9 times in this song.\nThe word 'bird' represents 6.57% of the total word count of this song.\n"
                }
            ],
            "source": "specific_word_counter('bird', freebird_corpus)"
        },
        {
            "cell_type": "code",
            "execution_count": 44,
            "metadata": {},
            "outputs": [
                {
                    "name": "stdout",
                    "output_type": "stream",
                    "text": "If I leave here tomorrow\nWould you still remember me?\nFor I must be traveling on now\n'Cause there's too many places I've got to see.\n\nBut if I stayed here with you, girl,\nThings just couldn't be the same.\n'Cause I'm as free as a bird now,\nAnd this bird you cannot change.\nAnd this bird you cannot change.\nAnd this bird you cannot change.\nLord knows I can't change.\n\nBye, bye, baby, it's been a sweet love, yeah,\nThough this feeling I can't change.\nBut please don't take it so badly,\n'Cause Lord knows I'm to blame.\n\nBut if I stayed here with you, girl,\nThings just couldn't be the same.\n'Cause I'm as free as a bird now,\nAnd this bird you'll never change.\nAnd the bird you cannot change.\nAnd this bird you cannot change.\nLord knows, I can't change.\nLord, help me, I can't change.\n\nLord, I can't change.\nWon't you fly high, free bird, yeah?\n"
                }
            ],
            "source": "print(freebird_corpus)"
        },
        {
            "cell_type": "code",
            "execution_count": null,
            "metadata": {},
            "outputs": [],
            "source": ""
        }
    ],
    "metadata": {
        "kernelspec": {
            "display_name": "Python 3.7",
            "language": "python",
            "name": "python3"
        },
        "language_info": {
            "codemirror_mode": {
                "name": "ipython",
                "version": 3
            },
            "file_extension": ".py",
            "mimetype": "text/x-python",
            "name": "python",
            "nbconvert_exporter": "python",
            "pygments_lexer": "ipython3",
            "version": "3.7.9"
        }
    },
    "nbformat": 4,
    "nbformat_minor": 1
}